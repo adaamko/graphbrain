{
 "cells": [
  {
   "cell_type": "code",
   "execution_count": 3,
   "metadata": {
    "collapsed": true
   },
   "outputs": [],
   "source": [
    "import json\n",
    "from pathlib import Path\n",
    "\n",
    "import pandas as pd\n",
    "\n",
    "from graphbrain.semsim.case_studies import get_result_dir"
   ]
  },
  {
   "cell_type": "code",
   "execution_count": 4,
   "outputs": [],
   "source": [
    "result_dir = get_result_dir()"
   ],
   "metadata": {
    "collapsed": false
   }
  },
  {
   "cell_type": "code",
   "execution_count": 5,
   "outputs": [],
   "source": [
    "RESULT_FILE: Path = result_dir / \"conflicts.json\""
   ],
   "metadata": {
    "collapsed": false
   }
  },
  {
   "cell_type": "code",
   "execution_count": 6,
   "outputs": [
    {
     "name": "stdout",
     "output_type": "stream",
     "text": [
      "( (var (any (atoms (lemma accuse/P.{so,x})) (atoms (lemma arrest/P.{so,x})) (atoms (lemma clash/P.{so,x})) (atoms (lemma condemn/P.{so,x})) (atoms (lemma kill/P.{so,x})) (atoms (lemma slam/P.{so,x})) (atoms (lemma warn/P.{so,x}))) PRED) SOURCE/C TARGET/C ((any against/T for/T of/T over/T) (any TOPIC/R TOPIC/S)) )\n"
     ]
    }
   ],
   "source": [
    "with open(RESULT_FILE) as fp:\n",
    "    result_dict = json.load(fp)\n",
    "\n",
    "pattern = result_dict['pattern']\n",
    "results = result_dict['results']\n",
    "\n",
    "print(pattern)"
   ],
   "metadata": {
    "collapsed": false
   }
  },
  {
   "cell_type": "code",
   "execution_count": 7,
   "outputs": [],
   "source": [
    "df = pd.DataFrame.from_dict(results)"
   ],
   "metadata": {
    "collapsed": false
   }
  },
  {
   "cell_type": "code",
   "execution_count": 8,
   "outputs": [],
   "source": [
    "df.to_csv(result_dir / \"conflicts_table.csv\")"
   ],
   "metadata": {
    "collapsed": false
   }
  }
 ],
 "metadata": {
  "kernelspec": {
   "name": "pyenv_graphbrain-semsim",
   "language": "python",
   "display_name": "graphbrain-semsim"
  },
  "language_info": {
   "codemirror_mode": {
    "name": "ipython",
    "version": 2
   },
   "file_extension": ".py",
   "mimetype": "text/x-python",
   "name": "python",
   "nbconvert_exporter": "python",
   "pygments_lexer": "ipython2",
   "version": "2.7.6"
  }
 },
 "nbformat": 4,
 "nbformat_minor": 0
}
