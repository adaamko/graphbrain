{
 "cells": [
  {
   "cell_type": "code",
   "execution_count": 1,
   "metadata": {
    "tags": []
   },
   "outputs": [],
   "source": [
    "import logging\n",
    "import inspect\n",
    "from pathlib import Path\n",
    "\n",
    "import graphbrain\n",
    "from graphbrain import hgraph\n",
    "from graphbrain.parsers import create_parser"
   ]
  },
  {
   "cell_type": "code",
   "execution_count": 2,
   "metadata": {
    "collapsed": false,
    "jupyter": {
     "outputs_hidden": false
    }
   },
   "outputs": [],
   "source": [
    "logger = logging.getLogger()\n",
    "logging.basicConfig(format='[{asctime}] {name}: {message}', style='{', level=logging.INFO)"
   ]
  },
  {
   "cell_type": "code",
   "execution_count": 3,
   "metadata": {
    "collapsed": false,
    "jupyter": {
     "outputs_hidden": false
    }
   },
   "outputs": [],
   "source": [
    "hg_dir = Path(inspect.getfile(graphbrain)).parents[2] / 'hypergraphs'"
   ]
  },
  {
   "cell_type": "markdown",
   "metadata": {},
   "source": []
  },
  {
   "cell_type": "code",
   "execution_count": 4,
   "metadata": {
    "collapsed": false,
    "jupyter": {
     "outputs_hidden": false
    }
   },
   "outputs": [],
   "source": [
    "HG_NAME = \"reddit-worldnews-01012013-01082017.hg\""
   ]
  },
  {
   "cell_type": "markdown",
   "metadata": {},
   "source": []
  },
  {
   "cell_type": "code",
   "execution_count": 5,
   "metadata": {
    "collapsed": false,
    "jupyter": {
     "outputs_hidden": false
    }
   },
   "outputs": [
    {
     "name": "stdout",
     "output_type": "stream",
     "text": [
      "Using language model: en_core_web_trf\n"
     ]
    }
   ],
   "source": [
    "hg = hgraph(str(hg_dir / HG_NAME))\n",
    "parser = create_parser(lang='en')"
   ]
  },
  {
   "cell_type": "code",
   "execution_count": null,
   "metadata": {
    "collapsed": false,
    "jupyter": {
     "outputs_hidden": false
    },
    "pycharm": {
     "is_executing": true
    }
   },
   "outputs": [],
   "source": [
    "# search_pattern = '((semsim say/P.{s-}) (semsim mother/C) VAR)'\n",
    "# search_pattern = '((semsim say/P.{s-}) mother/C VAR)'\n",
    "search_pattern = '((lemma say/P.{s-}) mother/C VAR)'"
   ]
  },
  {
   "cell_type": "code",
   "execution_count": null,
   "metadata": {
    "collapsed": false,
    "jupyter": {
     "outputs_hidden": false
    }
   },
   "outputs": [],
   "source": [
    "search_results = list(hg.search(search_pattern))\n",
    "\n",
    "print(f\"N of results: {len(search_results)}\")\n",
    "print(f\"Results:\\n{search_results}\")"
   ]
  }
 ],
 "metadata": {
  "kernelspec": {
   "display_name": "graphbrain-semsim",
   "language": "python",
   "name": "pyenv_graphbrain-semsim"
  },
  "language_info": {
   "codemirror_mode": {
    "name": "ipython",
    "version": 3
   },
   "file_extension": ".py",
   "mimetype": "text/x-python",
   "name": "python",
   "nbconvert_exporter": "python",
   "pygments_lexer": "ipython3",
   "version": "3.10.8"
  }
 },
 "nbformat": 4,
 "nbformat_minor": 4
}
